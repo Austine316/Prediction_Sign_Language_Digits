{
 "cells": [
  {
   "cell_type": "code",
   "execution_count": null,
   "id": "519879ca",
   "metadata": {},
   "outputs": [
    {
     "name": "stdout",
     "output_type": "stream",
     "text": [
      "Model is loaded\n",
      " * Serving Flask app '__main__' (lazy loading)\n",
      " * Environment: production\n",
      "\u001b[31m   WARNING: This is a development server. Do not use it in a production deployment.\u001b[0m\n",
      "\u001b[2m   Use a production WSGI server instead.\u001b[0m\n",
      " * Debug mode: on\n"
     ]
    }
   ],
   "source": [
    "from flask import Flask, render_template, request\n",
    "import tensorflow as tf\n",
    "import cv2\n",
    "import numpy as np\n",
    "import pandas as pd\n",
    "\n",
    "app = Flask(__name__)\n",
    "\n",
    "# Loading the model from the saved location\n",
    "model = tf.keras.models.load_model(\"../model/sign_lang_model\")\n",
    "print(\"Model is loaded\")\n",
    "\n",
    "#labels = pd.read_csv(\"labels.txt\", sep=\"\\n\").values\n",
    "\n",
    "\n",
    "@app.route('/')\n",
    "def index():\n",
    "    return render_template(\"index.html\", data=\"hey\")\n",
    "\n",
    "\n",
    "@app.route(\"/prediction\", methods=[\"POST\"])\n",
    "def prediction():\n",
    "\n",
    "    img = request.files['img']\n",
    "\n",
    "    img.save(\"img.jpg\")\n",
    "\n",
    "    image = cv2.imread(\"img.jpg\")\n",
    "\n",
    "    image = cv2.cvtColor(image, cv2.COLOR_BGR2GRAY)\n",
    "\n",
    "    image = cv2.resize(image, (64,64))\n",
    "\n",
    "    image = np.reshape(image, (1,64,64,1))\n",
    "\n",
    "    pred = model.predict(image)\n",
    "\n",
    "    pred = np.argmax(pred)\n",
    "\n",
    "    #pred = labels[pred]\n",
    "\n",
    "    return render_template(\"prediction.html\", data = pred)\n",
    "\n",
    "\n",
    "if __name__ == \"__main__\":\n",
    "    #app.run(debug=True)\n",
    "    app.run(debug=True, use_reloader=False)"
   ]
  },
  {
   "cell_type": "code",
   "execution_count": 27,
   "id": "71cff5fe",
   "metadata": {},
   "outputs": [],
   "source": [
    "import cv2\n",
    "def isgray(imgpath):\n",
    "    img = cv2.imread(imgpath)\n",
    "    if len(img.shape) < 3: return True\n",
    "    if img.shape[2]  == 1: return True\n",
    "    b,g,r = img[:,:,0], img[:,:,1], img[:,:,2]\n",
    "    if (b==g).all() and (b==r).all(): return True\n",
    "    return False"
   ]
  },
  {
   "cell_type": "code",
   "execution_count": 30,
   "id": "5bc2845c",
   "metadata": {},
   "outputs": [
    {
     "data": {
      "text/plain": [
       "False"
      ]
     },
     "execution_count": 30,
     "metadata": {},
     "output_type": "execute_result"
    }
   ],
   "source": [
    "isgray(\"/home/user/AI_HandSign_Number/resnet-flask-webapp-main/1.jpeg\")"
   ]
  },
  {
   "cell_type": "code",
   "execution_count": null,
   "id": "58c3c950",
   "metadata": {},
   "outputs": [],
   "source": []
  }
 ],
 "metadata": {
  "kernelspec": {
   "display_name": "Python 3 (ipykernel)",
   "language": "python",
   "name": "python3"
  },
  "language_info": {
   "codemirror_mode": {
    "name": "ipython",
    "version": 3
   },
   "file_extension": ".py",
   "mimetype": "text/x-python",
   "name": "python",
   "nbconvert_exporter": "python",
   "pygments_lexer": "ipython3",
   "version": "3.9.7"
  }
 },
 "nbformat": 4,
 "nbformat_minor": 5
}
