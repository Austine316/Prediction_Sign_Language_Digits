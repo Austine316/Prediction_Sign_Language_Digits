{
 "cells": [
  {
   "cell_type": "code",
   "execution_count": 3,
   "id": "96ac497d",
   "metadata": {},
   "outputs": [
    {
     "data": {
      "text/plain": [
       "False"
      ]
     },
     "execution_count": 3,
     "metadata": {},
     "output_type": "execute_result"
    }
   ],
   "source": [
    "from flask import Flask, render_template, request\n",
    "import tensorflow as tf\n",
    "import cv2\n",
    "import numpy as np\n",
    "import pandas as pd\n",
    "\n",
    "def isgray(imgpath):\n",
    "    img = cv2.imread(imgpath)\n",
    "    if len(img.shape) < 3: return True\n",
    "    if img.shape[2]  == 1: return True\n",
    "    b,g,r = img[:,:,0], img[:,:,1], img[:,:,2]\n",
    "    if (b==g).all() and (b==r).all(): return True\n",
    "    return False\n",
    "\n",
    "img_path = \"/home/user/AI_HandSign_Number/web_flask/1.jpeg\"\n",
    "\n",
    "isgray(img_path) "
   ]
  },
  {
   "cell_type": "code",
   "execution_count": 25,
   "id": "b3c046e9",
   "metadata": {
    "scrolled": true
   },
   "outputs": [
    {
     "name": "stdout",
     "output_type": "stream",
     "text": [
      "Model is loading\n",
      "Model is loaded\n",
      " * Serving Flask app '__main__' (lazy loading)\n",
      " * Environment: production\n",
      "\u001b[31m   WARNING: This is a development server. Do not use it in a production deployment.\u001b[0m\n",
      "\u001b[2m   Use a production WSGI server instead.\u001b[0m\n",
      " * Debug mode: on\n"
     ]
    },
    {
     "name": "stderr",
     "output_type": "stream",
     "text": [
      " * Running on http://127.0.0.1:5000/ (Press CTRL+C to quit)\n",
      "127.0.0.1 - - [20/Dec/2021 13:04:19] \"GET / HTTP/1.1\" 200 -\n",
      "127.0.0.1 - - [20/Dec/2021 13:04:19] \"\u001b[33mGET /assets/css/style.css HTTP/1.1\u001b[0m\" 404 -\n",
      "127.0.0.1 - - [20/Dec/2021 13:04:23] \"POST /prediction HTTP/1.1\" 200 -\n"
     ]
    }
   ],
   "source": [
    "# Loading the model from the saved location\n",
    "\n",
    "print(\"Model is loading\")\n",
    "model = tf.keras.models.load_model(\"../model/sign_lang_model\")\n",
    "print(\"Model is loaded\")\n",
    "\n",
    "app = Flask(__name__)\n",
    "\n",
    "@app.route('/')\n",
    "def index():\n",
    "    return render_template(\"index.html\", data=\"hey\")\n",
    "\n",
    "\n",
    "@app.route(\"/prediction\", methods=[\"POST\"])\n",
    "def prediction():\n",
    "\n",
    "    img = request.files['img']\n",
    "\n",
    "    img.save(\"img.jpg\")\n",
    "\n",
    "    image = cv2.imread(\"img.jpg\")\n",
    "    \n",
    "    image = cv2.cvtColor(image, cv2.COLOR_BGR2GRAY)\n",
    "    \n",
    "    image = cv2.resize(image, (64,64))\n",
    "\n",
    "    image = np.reshape(image, (1,64,64,1))\n",
    "\n",
    "    pred  = model.predict(image)\n",
    "\n",
    "    pred_index = np.argmax(pred)\n",
    "\n",
    "    return render_template(\"prediction.html\", data = {\"prediction\": pred_index})\n",
    "\n",
    "\n",
    "if __name__ == \"__main__\":\n",
    "    #app.run(debug=True)\n",
    "    app.run(debug=True, use_reloader=False)"
   ]
  },
  {
   "cell_type": "code",
   "execution_count": null,
   "id": "fabb493c",
   "metadata": {},
   "outputs": [],
   "source": []
  }
 ],
 "metadata": {
  "kernelspec": {
   "display_name": "Python 3 (ipykernel)",
   "language": "python",
   "name": "python3"
  },
  "language_info": {
   "codemirror_mode": {
    "name": "ipython",
    "version": 3
   },
   "file_extension": ".py",
   "mimetype": "text/x-python",
   "name": "python",
   "nbconvert_exporter": "python",
   "pygments_lexer": "ipython3",
   "version": "3.9.7"
  }
 },
 "nbformat": 4,
 "nbformat_minor": 5
}
